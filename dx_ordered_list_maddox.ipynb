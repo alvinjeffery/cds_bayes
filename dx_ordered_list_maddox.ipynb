{
 "cells": [
  {
   "cell_type": "code",
   "execution_count": 4,
   "metadata": {
    "collapsed": true
   },
   "outputs": [],
   "source": [
    "import pandas as pd\n",
    "df = pd.read_csv('LikelihoodRatiosDataFrame_GLR/DxMxLR.csv', index_col=0)"
   ]
  },
  {
   "cell_type": "code",
   "execution_count": 5,
   "metadata": {},
   "outputs": [
    {
     "data": {
      "text/html": [
       "<div>\n",
       "<style>\n",
       "    .dataframe thead tr:only-child th {\n",
       "        text-align: right;\n",
       "    }\n",
       "\n",
       "    .dataframe thead th {\n",
       "        text-align: left;\n",
       "    }\n",
       "\n",
       "    .dataframe tbody tr th {\n",
       "        vertical-align: top;\n",
       "    }\n",
       "</style>\n",
       "<table border=\"1\" class=\"dataframe\">\n",
       "  <thead>\n",
       "    <tr style=\"text-align: right;\">\n",
       "      <th></th>\n",
       "      <th>Association</th>\n",
       "      <th>Dx Name</th>\n",
       "      <th>Mx Name</th>\n",
       "      <th>Prevalence</th>\n",
       "      <th>Import</th>\n",
       "      <th>LR (+)</th>\n",
       "      <th>LR (-)</th>\n",
       "    </tr>\n",
       "  </thead>\n",
       "  <tbody>\n",
       "    <tr>\n",
       "      <th>0</th>\n",
       "      <td>362, 59</td>\n",
       "      <td>PEPTIC ULCER</td>\n",
       "      <td>ABDOMEN PAIN EPIGASTRIUM RECURRENT ATTACK &lt;S&gt; HX</td>\n",
       "      <td>0.5</td>\n",
       "      <td>2.0</td>\n",
       "      <td>1.500000</td>\n",
       "      <td>0.5000</td>\n",
       "    </tr>\n",
       "    <tr>\n",
       "      <th>1</th>\n",
       "      <td>362, 62</td>\n",
       "      <td>PEPTIC ULCER</td>\n",
       "      <td>ABDOMEN PAIN EPIGASTRIUM SEASONAL HX</td>\n",
       "      <td>0.5</td>\n",
       "      <td>2.0</td>\n",
       "      <td>0.666667</td>\n",
       "      <td>1.2000</td>\n",
       "    </tr>\n",
       "    <tr>\n",
       "      <th>2</th>\n",
       "      <td>362, 64</td>\n",
       "      <td>PEPTIC ULCER</td>\n",
       "      <td>ABDOMEN PAIN EXACERBATION WITH ALCOHOL</td>\n",
       "      <td>0.5</td>\n",
       "      <td>2.0</td>\n",
       "      <td>0.666667</td>\n",
       "      <td>2.0000</td>\n",
       "    </tr>\n",
       "    <tr>\n",
       "      <th>3</th>\n",
       "      <td>362, 198</td>\n",
       "      <td>PEPTIC ULCER</td>\n",
       "      <td>AGE 16 TO 25</td>\n",
       "      <td>0.5</td>\n",
       "      <td>3.0</td>\n",
       "      <td>0.000100</td>\n",
       "      <td>-0.0003</td>\n",
       "    </tr>\n",
       "    <tr>\n",
       "      <th>4</th>\n",
       "      <td>362, 199</td>\n",
       "      <td>PEPTIC ULCER</td>\n",
       "      <td>AGE 26 TO 55</td>\n",
       "      <td>0.5</td>\n",
       "      <td>3.0</td>\n",
       "      <td>0.000100</td>\n",
       "      <td>-0.0001</td>\n",
       "    </tr>\n",
       "  </tbody>\n",
       "</table>\n",
       "</div>"
      ],
      "text/plain": [
       "  Association       Dx Name                                           Mx Name  \\\n",
       "0     362, 59  PEPTIC ULCER  ABDOMEN PAIN EPIGASTRIUM RECURRENT ATTACK <S> HX   \n",
       "1     362, 62  PEPTIC ULCER              ABDOMEN PAIN EPIGASTRIUM SEASONAL HX   \n",
       "2     362, 64  PEPTIC ULCER            ABDOMEN PAIN EXACERBATION WITH ALCOHOL   \n",
       "3    362, 198  PEPTIC ULCER                                      AGE 16 TO 25   \n",
       "4    362, 199  PEPTIC ULCER                                      AGE 26 TO 55   \n",
       "\n",
       "   Prevalence  Import    LR (+)  LR (-)  \n",
       "0         0.5     2.0  1.500000  0.5000  \n",
       "1         0.5     2.0  0.666667  1.2000  \n",
       "2         0.5     2.0  0.666667  2.0000  \n",
       "3         0.5     3.0  0.000100 -0.0003  \n",
       "4         0.5     3.0  0.000100 -0.0001  "
      ]
     },
     "execution_count": 5,
     "metadata": {},
     "output_type": "execute_result"
    }
   ],
   "source": [
    "df.head()"
   ]
  },
  {
   "cell_type": "code",
   "execution_count": null,
   "metadata": {
    "collapsed": true
   },
   "outputs": [],
   "source": [
    "Mx_list = ['+ vomiting recent']\n"
   ]
  }
 ],
 "metadata": {
  "kernelspec": {
   "display_name": "Python 3",
   "language": "python",
   "name": "python3"
  },
  "language_info": {
   "codemirror_mode": {
    "name": "ipython",
    "version": 3
   },
   "file_extension": ".py",
   "mimetype": "text/x-python",
   "name": "python",
   "nbconvert_exporter": "python",
   "pygments_lexer": "ipython3",
   "version": "3.6.3"
  }
 },
 "nbformat": 4,
 "nbformat_minor": 2
}
